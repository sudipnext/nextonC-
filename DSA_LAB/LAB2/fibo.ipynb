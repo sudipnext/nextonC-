{
 "cells": [
  {
   "cell_type": "code",
   "execution_count": 6,
   "metadata": {},
   "outputs": [
    {
     "name": "stdout",
     "output_type": "stream",
     "text": [
      "CPU times: total: 0 ns\n",
      "Wall time: 0 ns\n",
      "The  36 th fibonacci term is  14930352\n"
     ]
    }
   ],
   "source": [
    "%time\n",
    "def fibo(n):\n",
    "    if(n==1 or n==2):\n",
    "        return 1\n",
    "    else:\n",
    "        return fibo(n-1)+fibo(n-2)\n",
    "\n",
    "n=int(input(\"Enter n \"))\n",
    "print(\"The \", n, \"th fibonacci term is \", fibo(n))"
   ]
  }
 ],
 "metadata": {
  "kernelspec": {
   "display_name": "Python 3",
   "language": "python",
   "name": "python3"
  },
  "language_info": {
   "codemirror_mode": {
    "name": "ipython",
    "version": 3
   },
   "file_extension": ".py",
   "mimetype": "text/x-python",
   "name": "python",
   "nbconvert_exporter": "python",
   "pygments_lexer": "ipython3",
   "version": "3.11.0"
  },
  "orig_nbformat": 4,
  "vscode": {
   "interpreter": {
    "hash": "f4439b52bba58a8f1be07af29fbe91ad3080f1f9817d0f6cecda63fbc00c472d"
   }
  }
 },
 "nbformat": 4,
 "nbformat_minor": 2
}
